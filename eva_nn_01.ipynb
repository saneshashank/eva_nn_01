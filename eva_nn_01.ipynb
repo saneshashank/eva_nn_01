{
  "nbformat": 4,
  "nbformat_minor": 0,
  "metadata": {
    "colab": {
      "provenance": [],
      "authorship_tag": "ABX9TyOBhwh20vVpccVqx0PDUEff",
      "include_colab_link": true
    },
    "kernelspec": {
      "name": "python3",
      "display_name": "Python 3"
    },
    "language_info": {
      "name": "python"
    },
    "accelerator": "GPU",
    "gpuClass": "standard"
  },
  "cells": [
    {
      "cell_type": "markdown",
      "metadata": {
        "id": "view-in-github",
        "colab_type": "text"
      },
      "source": [
        "<a href=\"https://colab.research.google.com/github/saneshashank/eva_nn_01/blob/main/eva_nn_01.ipynb\" target=\"_parent\"><img src=\"https://colab.research.google.com/assets/colab-badge.svg\" alt=\"Open In Colab\"/></a>"
      ]
    },
    {
      "cell_type": "code",
      "execution_count": 27,
      "metadata": {
        "colab": {
          "base_uri": "https://localhost:8080/"
        },
        "id": "9uiZ0jZVb3oY",
        "outputId": "632a1bb4-bfe8-4fe3-8b44-58540d626e97"
      },
      "outputs": [
        {
          "output_type": "stream",
          "name": "stdout",
          "text": [
            "Looking in indexes: https://pypi.org/simple, https://us-python.pkg.dev/colab-wheels/public/simple/\n",
            "Requirement already satisfied: torch in /usr/local/lib/python3.8/dist-packages (1.13.0+cu116)\n",
            "Requirement already satisfied: typing-extensions in /usr/local/lib/python3.8/dist-packages (from torch) (4.4.0)\n"
          ]
        }
      ],
      "source": [
        "!pip install torch"
      ]
    },
    {
      "cell_type": "code",
      "source": [
        "# import libraries\n",
        "import torch\n",
        "import torchvision # provide access to datasets, models, transforms, utils, etc\n",
        "import torchvision.transforms as transforms"
      ],
      "metadata": {
        "id": "ADys7TYxcskg"
      },
      "execution_count": 28,
      "outputs": []
    },
    {
      "cell_type": "code",
      "source": [
        "from torch.utils.data import Dataset # helps create dataset class\n",
        "import numpy as np\n",
        "\n",
        "class NumberMixture(Dataset):\n",
        "  \"\"\"\n",
        "    Number Mixture clause produces a data which is a mixture of\n",
        "    mnist images and random integer numbers between 0 to 9 (inclusive)\n",
        "  \"\"\"\n",
        "\n",
        "  def __init__(self,mnist):\n",
        "    self.data = mnist\n",
        "\n",
        "  # returns image, random number, image label, sum of random number & number in\n",
        "  # image\n",
        "  def __getitem__(self,index):\n",
        "    r = self.data[index] # image data\n",
        "    v = np.random.randint(0,10) # random integor\n",
        "    v = torch.tensor(v) # convert to tensor format\n",
        "    # print(r[1]),print(r[0]) # uncomment to print values\n",
        "    return r[0],v,r[1], r[1]+v\n",
        "\n",
        "  def __len__(self):\n",
        "    return len(self.data) \n"
      ],
      "metadata": {
        "id": "YDa9KahDeKOw"
      },
      "execution_count": 29,
      "outputs": []
    },
    {
      "cell_type": "code",
      "source": [
        "# create MNIST dataset, which will be input to NumberMixture class\n",
        "train_set = torchvision.datasets.MNIST(\n",
        "    root='./data'\n",
        "    ,train=True\n",
        "    ,download=True\n",
        "    ,transform=transforms.Compose([\n",
        "        transforms.ToTensor()\n",
        "    ])\n",
        ")"
      ],
      "metadata": {
        "id": "PN2AawAuhtj_"
      },
      "execution_count": 30,
      "outputs": []
    },
    {
      "cell_type": "code",
      "source": [
        "train_set[0][0].shape,train_set[0][1]"
      ],
      "metadata": {
        "colab": {
          "base_uri": "https://localhost:8080/"
        },
        "id": "jCRdrGMHiGq5",
        "outputId": "1d7857ac-3766-450f-d2c3-d3213244f690"
      },
      "execution_count": 31,
      "outputs": [
        {
          "output_type": "execute_result",
          "data": {
            "text/plain": [
              "(torch.Size([1, 28, 28]), 5)"
            ]
          },
          "metadata": {},
          "execution_count": 31
        }
      ]
    },
    {
      "cell_type": "code",
      "source": [
        "# create number mixture object\n",
        "num_mix =  NumberMixture(train_set) "
      ],
      "metadata": {
        "id": "7C3lpp4Fk5GA"
      },
      "execution_count": 32,
      "outputs": []
    },
    {
      "cell_type": "code",
      "source": [
        "# look at first element\n",
        "num_mix[0]"
      ],
      "metadata": {
        "colab": {
          "base_uri": "https://localhost:8080/"
        },
        "id": "TkWwVkrkoUez",
        "outputId": "b98e95c0-3123-4310-fe9e-9b302edef661"
      },
      "execution_count": 33,
      "outputs": [
        {
          "output_type": "execute_result",
          "data": {
            "text/plain": [
              "(tensor([[[0.0000, 0.0000, 0.0000, 0.0000, 0.0000, 0.0000, 0.0000, 0.0000,\n",
              "           0.0000, 0.0000, 0.0000, 0.0000, 0.0000, 0.0000, 0.0000, 0.0000,\n",
              "           0.0000, 0.0000, 0.0000, 0.0000, 0.0000, 0.0000, 0.0000, 0.0000,\n",
              "           0.0000, 0.0000, 0.0000, 0.0000],\n",
              "          [0.0000, 0.0000, 0.0000, 0.0000, 0.0000, 0.0000, 0.0000, 0.0000,\n",
              "           0.0000, 0.0000, 0.0000, 0.0000, 0.0000, 0.0000, 0.0000, 0.0000,\n",
              "           0.0000, 0.0000, 0.0000, 0.0000, 0.0000, 0.0000, 0.0000, 0.0000,\n",
              "           0.0000, 0.0000, 0.0000, 0.0000],\n",
              "          [0.0000, 0.0000, 0.0000, 0.0000, 0.0000, 0.0000, 0.0000, 0.0000,\n",
              "           0.0000, 0.0000, 0.0000, 0.0000, 0.0000, 0.0000, 0.0000, 0.0000,\n",
              "           0.0000, 0.0000, 0.0000, 0.0000, 0.0000, 0.0000, 0.0000, 0.0000,\n",
              "           0.0000, 0.0000, 0.0000, 0.0000],\n",
              "          [0.0000, 0.0000, 0.0000, 0.0000, 0.0000, 0.0000, 0.0000, 0.0000,\n",
              "           0.0000, 0.0000, 0.0000, 0.0000, 0.0000, 0.0000, 0.0000, 0.0000,\n",
              "           0.0000, 0.0000, 0.0000, 0.0000, 0.0000, 0.0000, 0.0000, 0.0000,\n",
              "           0.0000, 0.0000, 0.0000, 0.0000],\n",
              "          [0.0000, 0.0000, 0.0000, 0.0000, 0.0000, 0.0000, 0.0000, 0.0000,\n",
              "           0.0000, 0.0000, 0.0000, 0.0000, 0.0000, 0.0000, 0.0000, 0.0000,\n",
              "           0.0000, 0.0000, 0.0000, 0.0000, 0.0000, 0.0000, 0.0000, 0.0000,\n",
              "           0.0000, 0.0000, 0.0000, 0.0000],\n",
              "          [0.0000, 0.0000, 0.0000, 0.0000, 0.0000, 0.0000, 0.0000, 0.0000,\n",
              "           0.0000, 0.0000, 0.0000, 0.0000, 0.0118, 0.0706, 0.0706, 0.0706,\n",
              "           0.4941, 0.5333, 0.6863, 0.1020, 0.6510, 1.0000, 0.9686, 0.4980,\n",
              "           0.0000, 0.0000, 0.0000, 0.0000],\n",
              "          [0.0000, 0.0000, 0.0000, 0.0000, 0.0000, 0.0000, 0.0000, 0.0000,\n",
              "           0.1176, 0.1412, 0.3686, 0.6039, 0.6667, 0.9922, 0.9922, 0.9922,\n",
              "           0.9922, 0.9922, 0.8824, 0.6745, 0.9922, 0.9490, 0.7647, 0.2510,\n",
              "           0.0000, 0.0000, 0.0000, 0.0000],\n",
              "          [0.0000, 0.0000, 0.0000, 0.0000, 0.0000, 0.0000, 0.0000, 0.1922,\n",
              "           0.9333, 0.9922, 0.9922, 0.9922, 0.9922, 0.9922, 0.9922, 0.9922,\n",
              "           0.9922, 0.9843, 0.3647, 0.3216, 0.3216, 0.2196, 0.1529, 0.0000,\n",
              "           0.0000, 0.0000, 0.0000, 0.0000],\n",
              "          [0.0000, 0.0000, 0.0000, 0.0000, 0.0000, 0.0000, 0.0000, 0.0706,\n",
              "           0.8588, 0.9922, 0.9922, 0.9922, 0.9922, 0.9922, 0.7765, 0.7137,\n",
              "           0.9686, 0.9451, 0.0000, 0.0000, 0.0000, 0.0000, 0.0000, 0.0000,\n",
              "           0.0000, 0.0000, 0.0000, 0.0000],\n",
              "          [0.0000, 0.0000, 0.0000, 0.0000, 0.0000, 0.0000, 0.0000, 0.0000,\n",
              "           0.3137, 0.6118, 0.4196, 0.9922, 0.9922, 0.8039, 0.0431, 0.0000,\n",
              "           0.1686, 0.6039, 0.0000, 0.0000, 0.0000, 0.0000, 0.0000, 0.0000,\n",
              "           0.0000, 0.0000, 0.0000, 0.0000],\n",
              "          [0.0000, 0.0000, 0.0000, 0.0000, 0.0000, 0.0000, 0.0000, 0.0000,\n",
              "           0.0000, 0.0549, 0.0039, 0.6039, 0.9922, 0.3529, 0.0000, 0.0000,\n",
              "           0.0000, 0.0000, 0.0000, 0.0000, 0.0000, 0.0000, 0.0000, 0.0000,\n",
              "           0.0000, 0.0000, 0.0000, 0.0000],\n",
              "          [0.0000, 0.0000, 0.0000, 0.0000, 0.0000, 0.0000, 0.0000, 0.0000,\n",
              "           0.0000, 0.0000, 0.0000, 0.5451, 0.9922, 0.7451, 0.0078, 0.0000,\n",
              "           0.0000, 0.0000, 0.0000, 0.0000, 0.0000, 0.0000, 0.0000, 0.0000,\n",
              "           0.0000, 0.0000, 0.0000, 0.0000],\n",
              "          [0.0000, 0.0000, 0.0000, 0.0000, 0.0000, 0.0000, 0.0000, 0.0000,\n",
              "           0.0000, 0.0000, 0.0000, 0.0431, 0.7451, 0.9922, 0.2745, 0.0000,\n",
              "           0.0000, 0.0000, 0.0000, 0.0000, 0.0000, 0.0000, 0.0000, 0.0000,\n",
              "           0.0000, 0.0000, 0.0000, 0.0000],\n",
              "          [0.0000, 0.0000, 0.0000, 0.0000, 0.0000, 0.0000, 0.0000, 0.0000,\n",
              "           0.0000, 0.0000, 0.0000, 0.0000, 0.1373, 0.9451, 0.8824, 0.6275,\n",
              "           0.4235, 0.0039, 0.0000, 0.0000, 0.0000, 0.0000, 0.0000, 0.0000,\n",
              "           0.0000, 0.0000, 0.0000, 0.0000],\n",
              "          [0.0000, 0.0000, 0.0000, 0.0000, 0.0000, 0.0000, 0.0000, 0.0000,\n",
              "           0.0000, 0.0000, 0.0000, 0.0000, 0.0000, 0.3176, 0.9412, 0.9922,\n",
              "           0.9922, 0.4667, 0.0980, 0.0000, 0.0000, 0.0000, 0.0000, 0.0000,\n",
              "           0.0000, 0.0000, 0.0000, 0.0000],\n",
              "          [0.0000, 0.0000, 0.0000, 0.0000, 0.0000, 0.0000, 0.0000, 0.0000,\n",
              "           0.0000, 0.0000, 0.0000, 0.0000, 0.0000, 0.0000, 0.1765, 0.7294,\n",
              "           0.9922, 0.9922, 0.5882, 0.1059, 0.0000, 0.0000, 0.0000, 0.0000,\n",
              "           0.0000, 0.0000, 0.0000, 0.0000],\n",
              "          [0.0000, 0.0000, 0.0000, 0.0000, 0.0000, 0.0000, 0.0000, 0.0000,\n",
              "           0.0000, 0.0000, 0.0000, 0.0000, 0.0000, 0.0000, 0.0000, 0.0627,\n",
              "           0.3647, 0.9882, 0.9922, 0.7333, 0.0000, 0.0000, 0.0000, 0.0000,\n",
              "           0.0000, 0.0000, 0.0000, 0.0000],\n",
              "          [0.0000, 0.0000, 0.0000, 0.0000, 0.0000, 0.0000, 0.0000, 0.0000,\n",
              "           0.0000, 0.0000, 0.0000, 0.0000, 0.0000, 0.0000, 0.0000, 0.0000,\n",
              "           0.0000, 0.9765, 0.9922, 0.9765, 0.2510, 0.0000, 0.0000, 0.0000,\n",
              "           0.0000, 0.0000, 0.0000, 0.0000],\n",
              "          [0.0000, 0.0000, 0.0000, 0.0000, 0.0000, 0.0000, 0.0000, 0.0000,\n",
              "           0.0000, 0.0000, 0.0000, 0.0000, 0.0000, 0.0000, 0.1804, 0.5098,\n",
              "           0.7176, 0.9922, 0.9922, 0.8118, 0.0078, 0.0000, 0.0000, 0.0000,\n",
              "           0.0000, 0.0000, 0.0000, 0.0000],\n",
              "          [0.0000, 0.0000, 0.0000, 0.0000, 0.0000, 0.0000, 0.0000, 0.0000,\n",
              "           0.0000, 0.0000, 0.0000, 0.0000, 0.1529, 0.5804, 0.8980, 0.9922,\n",
              "           0.9922, 0.9922, 0.9804, 0.7137, 0.0000, 0.0000, 0.0000, 0.0000,\n",
              "           0.0000, 0.0000, 0.0000, 0.0000],\n",
              "          [0.0000, 0.0000, 0.0000, 0.0000, 0.0000, 0.0000, 0.0000, 0.0000,\n",
              "           0.0000, 0.0000, 0.0941, 0.4471, 0.8667, 0.9922, 0.9922, 0.9922,\n",
              "           0.9922, 0.7882, 0.3059, 0.0000, 0.0000, 0.0000, 0.0000, 0.0000,\n",
              "           0.0000, 0.0000, 0.0000, 0.0000],\n",
              "          [0.0000, 0.0000, 0.0000, 0.0000, 0.0000, 0.0000, 0.0000, 0.0000,\n",
              "           0.0902, 0.2588, 0.8353, 0.9922, 0.9922, 0.9922, 0.9922, 0.7765,\n",
              "           0.3176, 0.0078, 0.0000, 0.0000, 0.0000, 0.0000, 0.0000, 0.0000,\n",
              "           0.0000, 0.0000, 0.0000, 0.0000],\n",
              "          [0.0000, 0.0000, 0.0000, 0.0000, 0.0000, 0.0000, 0.0706, 0.6706,\n",
              "           0.8588, 0.9922, 0.9922, 0.9922, 0.9922, 0.7647, 0.3137, 0.0353,\n",
              "           0.0000, 0.0000, 0.0000, 0.0000, 0.0000, 0.0000, 0.0000, 0.0000,\n",
              "           0.0000, 0.0000, 0.0000, 0.0000],\n",
              "          [0.0000, 0.0000, 0.0000, 0.0000, 0.2157, 0.6745, 0.8863, 0.9922,\n",
              "           0.9922, 0.9922, 0.9922, 0.9569, 0.5216, 0.0431, 0.0000, 0.0000,\n",
              "           0.0000, 0.0000, 0.0000, 0.0000, 0.0000, 0.0000, 0.0000, 0.0000,\n",
              "           0.0000, 0.0000, 0.0000, 0.0000],\n",
              "          [0.0000, 0.0000, 0.0000, 0.0000, 0.5333, 0.9922, 0.9922, 0.9922,\n",
              "           0.8314, 0.5294, 0.5176, 0.0627, 0.0000, 0.0000, 0.0000, 0.0000,\n",
              "           0.0000, 0.0000, 0.0000, 0.0000, 0.0000, 0.0000, 0.0000, 0.0000,\n",
              "           0.0000, 0.0000, 0.0000, 0.0000],\n",
              "          [0.0000, 0.0000, 0.0000, 0.0000, 0.0000, 0.0000, 0.0000, 0.0000,\n",
              "           0.0000, 0.0000, 0.0000, 0.0000, 0.0000, 0.0000, 0.0000, 0.0000,\n",
              "           0.0000, 0.0000, 0.0000, 0.0000, 0.0000, 0.0000, 0.0000, 0.0000,\n",
              "           0.0000, 0.0000, 0.0000, 0.0000],\n",
              "          [0.0000, 0.0000, 0.0000, 0.0000, 0.0000, 0.0000, 0.0000, 0.0000,\n",
              "           0.0000, 0.0000, 0.0000, 0.0000, 0.0000, 0.0000, 0.0000, 0.0000,\n",
              "           0.0000, 0.0000, 0.0000, 0.0000, 0.0000, 0.0000, 0.0000, 0.0000,\n",
              "           0.0000, 0.0000, 0.0000, 0.0000],\n",
              "          [0.0000, 0.0000, 0.0000, 0.0000, 0.0000, 0.0000, 0.0000, 0.0000,\n",
              "           0.0000, 0.0000, 0.0000, 0.0000, 0.0000, 0.0000, 0.0000, 0.0000,\n",
              "           0.0000, 0.0000, 0.0000, 0.0000, 0.0000, 0.0000, 0.0000, 0.0000,\n",
              "           0.0000, 0.0000, 0.0000, 0.0000]]]), tensor(3), 5, tensor(8))"
            ]
          },
          "metadata": {},
          "execution_count": 33
        }
      ]
    },
    {
      "cell_type": "code",
      "source": [
        "# check one sample\n",
        "sample = next(iter(num_mix))"
      ],
      "metadata": {
        "id": "5TJTzpgyzw3d"
      },
      "execution_count": 34,
      "outputs": []
    },
    {
      "cell_type": "code",
      "source": [
        "img,number, label, sum = sample"
      ],
      "metadata": {
        "id": "_l0tA1s1z2zI"
      },
      "execution_count": 35,
      "outputs": []
    },
    {
      "cell_type": "code",
      "source": [
        "# vizualize the image and check that sum is correct\n",
        "import matplotlib.pyplot as plt\n",
        "plt.imshow(img.squeeze(), cmap='gray')\n",
        "print('label:', label)\n",
        "print('random number:', number)\n",
        "print('sum:', sum)"
      ],
      "metadata": {
        "colab": {
          "base_uri": "https://localhost:8080/",
          "height": 317
        },
        "id": "tRECsQP10BRJ",
        "outputId": "fd3469de-1413-4e44-948f-86621b187b62"
      },
      "execution_count": 36,
      "outputs": [
        {
          "output_type": "stream",
          "name": "stdout",
          "text": [
            "label: 5\n",
            "random number: tensor(1)\n",
            "sum: tensor(6)\n"
          ]
        },
        {
          "output_type": "display_data",
          "data": {
            "text/plain": [
              "<Figure size 432x288 with 1 Axes>"
            ],
            "image/png": "[encoded data removed]"
          },
          "metadata": {
            "needs_background": "light"
          }
        }
      ]
    },
    {
      "cell_type": "code",
      "source": [
        "# create a data loader\n",
        "train_loader = torch.utils.data.DataLoader(num_mix,batch_size=2,shuffle=True)"
      ],
      "metadata": {
        "id": "mla6b6WSlaVP"
      },
      "execution_count": 37,
      "outputs": []
    },
    {
      "cell_type": "code",
      "source": [
        "# check one sample from data loader created\n",
        "next(iter(train_loader))"
      ],
      "metadata": {
        "colab": {
          "base_uri": "https://localhost:8080/"
        },
        "id": "LXRknkJqwgUO",
        "outputId": "c6d52536-9593-480d-e7e7-87b7810a1516"
      },
      "execution_count": 38,
      "outputs": [
        {
          "output_type": "execute_result",
          "data": {
            "text/plain": [
              "[tensor([[[[0., 0., 0.,  ..., 0., 0., 0.],\n",
              "           [0., 0., 0.,  ..., 0., 0., 0.],\n",
              "           [0., 0., 0.,  ..., 0., 0., 0.],\n",
              "           ...,\n",
              "           [0., 0., 0.,  ..., 0., 0., 0.],\n",
              "           [0., 0., 0.,  ..., 0., 0., 0.],\n",
              "           [0., 0., 0.,  ..., 0., 0., 0.]]],\n",
              " \n",
              " \n",
              "         [[[0., 0., 0.,  ..., 0., 0., 0.],\n",
              "           [0., 0., 0.,  ..., 0., 0., 0.],\n",
              "           [0., 0., 0.,  ..., 0., 0., 0.],\n",
              "           ...,\n",
              "           [0., 0., 0.,  ..., 0., 0., 0.],\n",
              "           [0., 0., 0.,  ..., 0., 0., 0.],\n",
              "           [0., 0., 0.,  ..., 0., 0., 0.]]]]),\n",
              " tensor([2, 0]),\n",
              " tensor([8, 4]),\n",
              " tensor([10,  4])]"
            ]
          },
          "metadata": {},
          "execution_count": 38
        }
      ]
    },
    {
      "cell_type": "code",
      "source": [
        "import torch.nn.functional as F\n",
        "import torch.nn as nn"
      ],
      "metadata": {
        "id": "Y6KH-QHNE7yz"
      },
      "execution_count": 39,
      "outputs": []
    },
    {
      "cell_type": "code",
      "source": [
        "# F.one_hot(torch.tensor(1),num_classes=9)"
      ],
      "metadata": {
        "id": "OPBGtJJaHImo"
      },
      "execution_count": 40,
      "outputs": []
    },
    {
      "cell_type": "code",
      "source": [
        "class Network(nn.Module):\n",
        "  def __init__(self):\n",
        "    super().__init__()\n",
        "    # set of layers dealing with image\n",
        "    self.conv1 = nn.Conv2d(in_channels=1, out_channels=6, kernel_size=5) # 1st convolution layer\n",
        "    self.conv2 = nn.Conv2d(in_channels=6, out_channels=12, kernel_size=5) # 2nd convolution layer\n",
        "    self.fc1 = nn.Linear(in_features=12 * 4 * 4, out_features=120) # 1st dense layer\n",
        "    self.fc2 = nn.Linear(in_features=130, out_features=60) # 2nd dense layer that takes in concatenated vector (vector representing image + random number)\n",
        "    self.out = nn.Linear(in_features=60, out_features=10) # output layer which maps to output 10 classes (numbers from 0-9)  \n",
        "    \n",
        "    # set of layers dealing with number as input\n",
        "    self.embedding = nn.Embedding(10,10) # embedding layer to convert one hot encoded number to 10 dimensional vector\n",
        "    self.fc1_1 = nn.Linear(in_features=10,out_features=10) # 1st dense layer\n",
        "    self.fc2_1 = nn.Linear(in_features=10,out_features=10) # 2nd dense layer\n",
        "    self.fc3_1 = nn.Linear(in_features=130,out_features=60) # 3rd dense layer that takes in concatenated vector (vector representing image + random number)\n",
        "    self.out_1 = nn.Linear(in_features=60,out_features=19) # output layer which maps to outut 19 classes (sum values from 0-18 inclusive of zero)\n",
        "  \n",
        "  def forward(self, \n",
        "               t_1,# image input\n",
        "               t_2 # number input\n",
        "              ):\n",
        "    # input layer\n",
        "    x = t_1 # input for image\n",
        "    x_1 = t_2 # input for number\n",
        "\n",
        "    # print(x.shape) # uncommebt to check image shape\n",
        "\n",
        "    # convert number input to embedding vector\n",
        "    # x_1 = self.embedding(torch.tensor(t_2,dtype=torch.int64))\n",
        "    x_1 = self.embedding(x_1.clone().detach())\n",
        "    # print(x_1.shape) # uncommebt to check number vector shape\n",
        "    \n",
        "    x_1 = self.fc1_1(x_1) # 1st dense layer\n",
        "    x_1 = F.relu(x_1) # activation\n",
        "    x_1 = self.fc2_1(x_1) # 2nd dense layer\n",
        "    x_1 = F.relu(x_1) # activation\n",
        "\n",
        "\n",
        "    # conv1 layer\n",
        "    x = self.conv1(x) # 1st convolution on image\n",
        "    x = F.relu(x) # activation\n",
        "    x = F.max_pool2d(x, kernel_size=2, stride=2) # 28 | 24 | 12 # max pooling\n",
        "\n",
        "    # conv2 layer\n",
        "    x = self.conv2(x) # 2nd convolution on image\n",
        "    x = F.relu(x) # activation\n",
        "    x = F.max_pool2d(x, kernel_size=2, stride=2) # 12 | 8 | 4 >> 12x4x4\n",
        "\n",
        "    # reshape\n",
        "    x = x.reshape(-1, 12 * 4 * 4)\n",
        "\n",
        "    # fc1 layer\n",
        "    x = self.fc1(x)\n",
        "    x = F.relu(x)\n",
        "\n",
        "    # print(f\"num shape {x_1.shape}\")\n",
        "    # print(f\"img tensor shape {x.shape}\")\n",
        "\n",
        "    # concatenate image & number vectors into a single vector\n",
        "    x_concat = torch.concat([x,x_1],axis=-1)\n",
        "    # print(f\"x_concat shape {x_concat.shape}\")\n",
        "\n",
        "    # fc2 layer\n",
        "    x = self.fc2(x_concat) # apply dense layer for image\n",
        "    x = F.relu(x)\n",
        "\n",
        "    # output layer\n",
        "    x = self.out(x) # image class output\n",
        "\n",
        "    # fc2 layer\n",
        "    x_1 = self.fc3_1(x_concat) # apply dense layer for number\n",
        "    x_1 = F.relu(x_1) \n",
        "\n",
        "    # output layer\n",
        "    x_1 = self.out_1(x_1) # sum output\n",
        "    \n",
        "    return x,x_1"
      ],
      "metadata": {
        "id": "y6ytk4jwE8g7"
      },
      "execution_count": 41,
      "outputs": []
    },
    {
      "cell_type": "code",
      "source": [
        "# check above works fine by creating the neural n/w\n",
        "network = Network() "
      ],
      "metadata": {
        "id": "bfnKtm0itdNW"
      },
      "execution_count": 42,
      "outputs": []
    },
    {
      "cell_type": "code",
      "source": [
        "# check output on single image and number as input\n",
        "network(img.unsqueeze(0),number.unsqueeze(0))"
      ],
      "metadata": {
        "colab": {
          "base_uri": "https://localhost:8080/"
        },
        "id": "L958Ich5tlPN",
        "outputId": "fee9b45c-cd19-4ef1-94a8-d37569d3c107"
      },
      "execution_count": 43,
      "outputs": [
        {
          "output_type": "execute_result",
          "data": {
            "text/plain": [
              "(tensor([[ 0.0403,  0.0127,  0.0002, -0.1599, -0.1170,  0.1294,  0.0106,  0.2262,\n",
              "          -0.0027, -0.0480]], grad_fn=<AddmmBackward0>),\n",
              " tensor([[ 0.0632,  0.1061, -0.1294, -0.1552, -0.0885,  0.1253,  0.0168,  0.0321,\n",
              "           0.1065,  0.0728, -0.0345,  0.0919,  0.1724, -0.0772,  0.0681, -0.0951,\n",
              "          -0.0470, -0.0480, -0.0968]], grad_fn=<AddmmBackward0>))"
            ]
          },
          "metadata": {},
          "execution_count": 43
        }
      ]
    },
    {
      "cell_type": "code",
      "source": [
        "import torch.optim as optim\n",
        "\n",
        "torch.set_grad_enabled(True)"
      ],
      "metadata": {
        "colab": {
          "base_uri": "https://localhost:8080/"
        },
        "id": "v1nqfg-WhkPm",
        "outputId": "a3e6a856-16c5-43c4-a886-f058d2c6e4d0"
      },
      "execution_count": 44,
      "outputs": [
        {
          "output_type": "execute_result",
          "data": {
            "text/plain": [
              "<torch.autograd.grad_mode.set_grad_enabled at 0x7f4179c9bf40>"
            ]
          },
          "metadata": {},
          "execution_count": 44
        }
      ]
    },
    {
      "cell_type": "code",
      "source": [
        "# take single batch as input\n",
        "images,numbers, labels, sums = next(iter(train_loader))"
      ],
      "metadata": {
        "id": "d3xEo-L-Kbrv"
      },
      "execution_count": 45,
      "outputs": []
    },
    {
      "cell_type": "code",
      "source": [
        "# test that everything works fine on a single batch\n",
        "preds_1,preds_2 = network(images,numbers)\n",
        "print(preds_1.shape), print(preds_2.shape)"
      ],
      "metadata": {
        "colab": {
          "base_uri": "https://localhost:8080/"
        },
        "id": "hif4m-QVmtfK",
        "outputId": "99dc04d0-ee03-4595-99fd-2a143aed04a3"
      },
      "execution_count": 46,
      "outputs": [
        {
          "output_type": "stream",
          "name": "stdout",
          "text": [
            "torch.Size([2, 10])\n",
            "torch.Size([2, 19])\n"
          ]
        },
        {
          "output_type": "execute_result",
          "data": {
            "text/plain": [
              "(None, None)"
            ]
          },
          "metadata": {},
          "execution_count": 46
        }
      ]
    },
    {
      "cell_type": "code",
      "source": [
        "# check loss on predicted image label and actual label\n",
        "loss_1 = F.cross_entropy(preds_1, labels)\n",
        "loss_1.item()\n",
        "\n",
        "print(loss_1)\n",
        "\n",
        "# check loss on predicted numbers sum and actual sum\n",
        "loss_2 = F.cross_entropy(preds_2, sums)\n",
        "loss_2.item()\n",
        "print(loss_2)"
      ],
      "metadata": {
        "colab": {
          "base_uri": "https://localhost:8080/"
        },
        "id": "6DntRnlinFcW",
        "outputId": "3db73e9a-87c4-45d1-90b1-f588b9c35bb8"
      },
      "execution_count": 47,
      "outputs": [
        {
          "output_type": "stream",
          "name": "stdout",
          "text": [
            "tensor(2.4022, grad_fn=<NllLossBackward0>)\n",
            "tensor(2.8414, grad_fn=<NllLossBackward0>)\n"
          ]
        }
      ]
    },
    {
      "cell_type": "code",
      "source": [
        "# function to calculate the number of correct labels\n",
        "def get_num_correct(preds, labels):\n",
        "  return preds.argmax(dim=1).eq(labels).sum().item()"
      ],
      "metadata": {
        "id": "shsNtSLmsb21"
      },
      "execution_count": 48,
      "outputs": []
    },
    {
      "cell_type": "code",
      "source": [
        "# run the entire training loop\n",
        "total_correct_labels = 0\n",
        "total_correct_sums = 0\n",
        "# initialize neural network\n",
        "network = Network()\n",
        "# create data loader\n",
        "train_loader = torch.utils.data.DataLoader(num_mix,batch_size=100,shuffle=True)\n",
        "# load optimizer\n",
        "optimizer = optim.Adam(network.parameters(), lr=0.01) \n",
        "\n",
        "# run training for 10 epochs\n",
        "for epoch in range(10):\n",
        "\n",
        "    total_loss = 0\n",
        "    total_correct = 0\n",
        "\n",
        "    for batch in train_loader: # Get Batch\n",
        "        images,numbers, labels, sums = batch \n",
        "\n",
        "        preds_1,preds_2 = network(images,numbers) # Pass Batch\n",
        "\n",
        "        loss_1 = F.cross_entropy(preds_1, labels) # Calculate loss for image labels\n",
        "        loss_2 = F.cross_entropy(preds_2, sums) # Calculate loss for number sum \n",
        "\n",
        "        # find the cumulative loss\n",
        "        loss = loss_1 + loss_2\n",
        "\n",
        "        optimizer.zero_grad()\n",
        "        loss.backward() # Calculate Gradients\n",
        "        optimizer.step() # Update Weights\n",
        "\n",
        "        total_loss += loss.item()\n",
        "        total_correct_labels += get_num_correct(preds_1, labels)\n",
        "        total_correct_sums += get_num_correct(preds_2, sums)\n",
        "\n",
        "    print(\n",
        "        \"epoch\", epoch, \n",
        "        \"total_correct_labels:\", total_correct_labels, \n",
        "        \"total_correct_sums:\", total_correct_sums,\n",
        "        \"loss:\", total_loss\n",
        "    )"
      ],
      "metadata": {
        "colab": {
          "base_uri": "https://localhost:8080/"
        },
        "id": "mr_4JqBGmxRZ",
        "outputId": "e031d3b5-7460-4fa7-9951-f310117106d2"
      },
      "execution_count": 49,
      "outputs": [
        {
          "output_type": "stream",
          "name": "stdout",
          "text": [
            "epoch 0 total_correct_labels: 56311 total_correct_sums: 47795 loss: 494.98781556636095\n",
            "epoch 1 total_correct_labels: 115021 total_correct_sums: 105978 loss: 118.19812903553247\n",
            "epoch 2 total_correct_labels: 173965 total_correct_sums: 164563 loss: 96.3456956744194\n",
            "epoch 3 total_correct_labels: 233023 total_correct_sums: 223265 loss: 87.37342839268968\n",
            "epoch 4 total_correct_labels: 292141 total_correct_sums: 282005 loss: 86.00667833397165\n",
            "epoch 5 total_correct_labels: 351343 total_correct_sums: 340919 loss: 76.07689337385818\n",
            "epoch 6 total_correct_labels: 410619 total_correct_sums: 399908 loss: 70.1180489838589\n",
            "epoch 7 total_correct_labels: 469822 total_correct_sums: 458700 loss: 79.50271089468151\n",
            "epoch 8 total_correct_labels: 529089 total_correct_sums: 517693 loss: 74.1352062295191\n",
            "epoch 9 total_correct_labels: 588396 total_correct_sums: 576713 loss: 69.47311828006059\n"
          ]
        }
      ]
    }
  ]
}